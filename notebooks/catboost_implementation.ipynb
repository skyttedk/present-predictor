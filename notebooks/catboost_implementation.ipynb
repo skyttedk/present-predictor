{
 "cells": [
  {
   "cell_type": "markdown",
   "id": "b1471226",
   "metadata": {},
   "source": [
    "# CatBoost Model Implementation with Poisson Loss and New Features\n",
    "\n",
    "This notebook implements a CatBoost Regressor model with Poisson loss for predicting gift selection counts. It builds upon the previous XGBoost work by:\n",
    "1. Using CatBoost's native handling of categorical features.\n",
    "2. Employing a Poisson loss function, suitable for count data, removing the need for log transformation of the target.\n",
    "3. Incorporating new shop-level share, rank, and interaction features as per the ML expert's recommendations and Phase 3.5 plan."
   ]
  },
  {
   "cell_type": "markdown",
   "id": "671d9ff4",
   "metadata": {},
   "source": [
    "## 1. Setup and Libraries"
   ]
  },
  {
   "cell_type": "code",
   "execution_count": 2,
   "id": "a5390a24",
   "metadata": {
    "execution": {
     "iopub.execute_input": "2025-06-15T21:41:39.411570Z",
     "iopub.status.busy": "2025-06-15T21:41:39.411570Z",
     "iopub.status.idle": "2025-06-15T21:41:41.660872Z",
     "shell.execute_reply": "2025-06-15T21:41:41.660872Z"
    }
   },
   "outputs": [
    {
     "name": "stdout",
     "output_type": "stream",
     "text": [
      "CatBoost version: 1.2.8\n",
      "Libraries imported successfully\n"
     ]
    }
   ],
   "source": [
    "import pandas as pd\n",
    "import numpy as np\n",
    "import matplotlib.pyplot as plt\n",
    "import seaborn as sns\n",
    "import sys\n",
    "import os\n",
    "import pickle\n",
    "import joblib\n",
    "\n",
    "from sklearn.model_selection import train_test_split, StratifiedKFold, cross_val_score\n",
    "from sklearn.metrics import r2_score, mean_absolute_error, mean_squared_error\n",
    "from sklearn.preprocessing import LabelEncoder # Still needed for y_strata, not for X features for CatBoost\n",
    "from sklearn.feature_extraction import FeatureHasher\n",
    "\n",
    "import catboost\n",
    "from catboost import CatBoostRegressor, Pool, metrics, cv\n",
    "\n",
    "import warnings\n",
    "warnings.filterwarnings('ignore')\n",
    "\n",
    "print(f\"CatBoost version: {catboost.__version__}\")\n",
    "print(\"Libraries imported successfully\")"
   ]
  },
  {
   "cell_type": "markdown",
   "id": "ca3e82a5",
   "metadata": {},
   "source": [
    "## 2. Data Loading and Initial Preprocessing\n",
    "Reusing the same data loading and cleaning steps from `breakthrough_training.ipynb`."
   ]
  },
  {
   "cell_type": "code",
   "execution_count": 3,
   "id": "95d63d0a",
   "metadata": {
    "execution": {
     "iopub.execute_input": "2025-06-15T21:41:41.663881Z",
     "iopub.status.busy": "2025-06-15T21:41:41.663881Z",
     "iopub.status.idle": "2025-06-15T21:41:42.756387Z",
     "shell.execute_reply": "2025-06-15T21:41:42.756387Z"
    }
   },
   "outputs": [
    {
     "name": "stdout",
     "output_type": "stream",
     "text": [
      "[DATA] Loading historical selection data...\n",
      "Loaded 178736 selection events from ../src/data/historical/present.selection.historic.csv\n",
      "Columns: ['employee_shop', 'employee_branch', 'employee_gender', 'product_main_category', 'product_sub_category', 'product_brand', 'product_color', 'product_durability', 'product_target_gender', 'product_utility_type', 'product_type']\n",
      "\n",
      "[CLEAN] Cleaning data...\n",
      "Data cleaning complete: 178736 records\n"
     ]
    }
   ],
   "source": [
    "print(\"[DATA] Loading historical selection data...\")\n",
    "data_path = \"../src/data/historical/present.selection.historic.csv\"\n",
    "raw_data = pd.DataFrame()\n",
    "try:\n",
    "    raw_data = pd.read_csv(data_path, encoding='utf-8', dtype='str')\n",
    "    print(f\"Loaded {len(raw_data)} selection events from {data_path}\")\n",
    "    print(f\"Columns: {list(raw_data.columns)}\")\n",
    "except FileNotFoundError:\n",
    "    print(f\"ERROR: {data_path} not found.\")\n",
    "\n",
    "if not raw_data.empty:\n",
    "    print(\"\\n[CLEAN] Cleaning data...\")\n",
    "    cleaned_data = raw_data.copy()\n",
    "    for col in cleaned_data.columns:\n",
    "        cleaned_data[col] = cleaned_data[col].astype(str).str.strip('\"').str.strip()\n",
    "    cleaned_data = cleaned_data.fillna(\"NONE\")\n",
    "    categorical_cols_to_lower = ['employee_gender', 'product_target_gender', \n",
    "                       'product_utility_type', 'product_durability', 'product_type']\n",
    "    for col in categorical_cols_to_lower:\n",
    "        if col in cleaned_data.columns:\n",
    "            cleaned_data[col] = cleaned_data[col].str.lower()\n",
    "    print(f\"Data cleaning complete: {len(cleaned_data)} records\")\n",
    "else:\n",
    "    print(\"Raw data is empty, skipping cleaning.\")\n",
    "    cleaned_data = pd.DataFrame()"
   ]
  },
  {
   "cell_type": "markdown",
   "id": "a1868a4f",
   "metadata": {},
   "source": [
    "## 3. Data Aggregation\n",
    "Aggregating data to unique product-employee combinations."
   ]
  },
  {
   "cell_type": "code",
   "execution_count": 4,
   "id": "8f31b8ca",
   "metadata": {
    "execution": {
     "iopub.execute_input": "2025-06-15T21:41:42.759626Z",
     "iopub.status.busy": "2025-06-15T21:41:42.759626Z",
     "iopub.status.idle": "2025-06-15T21:41:42.978310Z",
     "shell.execute_reply": "2025-06-15T21:41:42.978310Z"
    }
   },
   "outputs": [
    {
     "name": "stdout",
     "output_type": "stream",
     "text": [
      "\n",
      "[AGGREGATE] Grouping by 11 features: ['employee_shop', 'employee_branch', 'employee_gender', 'product_main_category', 'product_sub_category', 'product_brand', 'product_color', 'product_durability', 'product_target_gender', 'product_utility_type', 'product_type']\n",
      "Aggregation complete:\n",
      "  178736 events → 98741 unique combinations\n",
      "  Compression ratio: 1.8x\n"
     ]
    }
   ],
   "source": [
    "agg_data = pd.DataFrame() \n",
    "grouping_cols = []\n",
    "if not cleaned_data.empty:\n",
    "    grouping_cols = [\n",
    "        'employee_shop', 'employee_branch', 'employee_gender',\n",
    "        'product_main_category', 'product_sub_category', 'product_brand',\n",
    "        'product_color', 'product_durability', 'product_target_gender',\n",
    "        'product_utility_type', 'product_type'\n",
    "    ]\n",
    "    print(f\"\\n[AGGREGATE] Grouping by {len(grouping_cols)} features: {grouping_cols}\")\n",
    "    agg_data = cleaned_data.groupby(grouping_cols).size().reset_index(name='selection_count')\n",
    "    if not agg_data.empty:\n",
    "        compression_ratio = len(cleaned_data) / len(agg_data) if len(agg_data) > 0 else 0\n",
    "        print(f\"Aggregation complete:\")\n",
    "        print(f\"  {len(cleaned_data)} events → {len(agg_data)} unique combinations\")\n",
    "        print(f\"  Compression ratio: {compression_ratio:.1f}x\")\n",
    "    else:\n",
    "        print(\"agg_data is empty after grouping.\")\n",
    "else:\n",
    "    print(\"Cleaned data is empty, skipping aggregation.\")"
   ]
  },
  {
   "cell_type": "markdown",
   "id": "eb76a859",
   "metadata": {},
   "source": [
    "## 4. Shop Assortment Feature Engineering (Existing)\n",
    "Reusing the non-leaky shop assortment features from `breakthrough_training.ipynb`."
   ]
  },
  {
   "cell_type": "code",
   "execution_count": 5,
   "id": "79017eda",
   "metadata": {
    "execution": {
     "iopub.execute_input": "2025-06-15T21:41:42.981600Z",
     "iopub.status.busy": "2025-06-15T21:41:42.981600Z",
     "iopub.status.idle": "2025-06-15T21:41:43.184416Z",
     "shell.execute_reply": "2025-06-15T21:41:43.183405Z"
    }
   },
   "outputs": [
    {
     "name": "stdout",
     "output_type": "stream",
     "text": [
      "Shape after existing shop features: (98741, 21)\n"
     ]
    }
   ],
   "source": [
    "agg_data_with_shop_features = pd.DataFrame() \n",
    "if not agg_data.empty:\n",
    "    shop_summary = agg_data.groupby('employee_shop').agg(\n",
    "        unique_product_combinations_in_shop=('product_main_category', 'count'),\n",
    "        distinct_main_categories_in_shop=('product_main_category', 'nunique'),\n",
    "        distinct_sub_categories_in_shop=('product_sub_category', 'nunique'),\n",
    "        distinct_brands_in_shop=('product_brand', 'nunique'),\n",
    "        distinct_utility_types_in_shop=('product_utility_type', 'nunique')\n",
    "    ).reset_index()\n",
    "\n",
    "    shop_main_cat_counts = agg_data.groupby(['employee_shop', 'product_main_category'])['selection_count'].sum().reset_index()\n",
    "    idx = shop_main_cat_counts.groupby(['employee_shop'])['selection_count'].transform(max) == shop_main_cat_counts['selection_count']\n",
    "    shop_top_main_cats = shop_main_cat_counts[idx].drop_duplicates(subset=['employee_shop'], keep='first')\n",
    "    shop_top_main_cats = shop_top_main_cats[['employee_shop', 'product_main_category']].rename(\n",
    "        columns={'product_main_category': 'shop_most_frequent_main_category_selected'}\n",
    "    )\n",
    "\n",
    "    shop_brand_counts = agg_data.groupby(['employee_shop', 'product_brand'])['selection_count'].sum().reset_index()\n",
    "    idx_brand = shop_brand_counts.groupby(['employee_shop'])['selection_count'].transform(max) == shop_brand_counts['selection_count']\n",
    "    shop_top_brands = shop_brand_counts[idx_brand].drop_duplicates(subset=['employee_shop'], keep='first')\n",
    "    shop_top_brands = shop_top_brands[['employee_shop', 'product_brand']].rename(\n",
    "        columns={'product_brand': 'shop_most_frequent_brand_selected'}\n",
    "    )\n",
    "\n",
    "    shop_features_df = shop_summary.copy()\n",
    "    if not shop_top_main_cats.empty:\n",
    "        shop_features_df = pd.merge(shop_features_df, shop_top_main_cats, on='employee_shop', how='left')\n",
    "    if not shop_top_brands.empty:\n",
    "        shop_features_df = pd.merge(shop_features_df, shop_top_brands, on='employee_shop', how='left')\n",
    "    \n",
    "    shop_features_df = shop_features_df.rename(columns={\n",
    "        'distinct_main_categories_in_shop': 'shop_main_category_diversity_selected',\n",
    "        'distinct_brands_in_shop': 'shop_brand_diversity_selected',\n",
    "        'distinct_utility_types_in_shop': 'shop_utility_type_diversity_selected',\n",
    "        'distinct_sub_categories_in_shop': 'shop_sub_category_diversity_selected'\n",
    "    })\n",
    "    \n",
    "    agg_data_with_shop_features = pd.merge(agg_data, shop_features_df, on='employee_shop', how='left')\n",
    "    \n",
    "    # Ensure 'unique_product_combinations_in_shop' is numeric after merge, fill NaNs with 0\n",
    "    if 'unique_product_combinations_in_shop' in agg_data_with_shop_features.columns:\n",
    "        agg_data_with_shop_features['unique_product_combinations_in_shop'] = pd.to_numeric(agg_data_with_shop_features['unique_product_combinations_in_shop'], errors='coerce').fillna(0)\n",
    "\n",
    "    # Product-Relative-to-Shop Features\n",
    "    df_temp = agg_data_with_shop_features.copy()\n",
    "    if 'shop_most_frequent_main_category_selected' in df_temp.columns:\n",
    "        df_temp['is_shop_most_frequent_main_category'] = (\n",
    "            df_temp['product_main_category'] == df_temp['shop_most_frequent_main_category_selected']\n",
    "        ).astype(int)\n",
    "    else:\n",
    "        df_temp['is_shop_most_frequent_main_category'] = 0\n",
    "\n",
    "    if 'shop_most_frequent_brand_selected' in df_temp.columns:\n",
    "        df_temp['is_shop_most_frequent_brand'] = (\n",
    "            df_temp['product_brand'] == df_temp['shop_most_frequent_brand_selected']\n",
    "        ).astype(int)\n",
    "    else:\n",
    "        df_temp['is_shop_most_frequent_brand'] = 0\n",
    "    agg_data_with_shop_features = df_temp\n",
    "    print(f\"Shape after existing shop features: {agg_data_with_shop_features.shape}\")\n",
    "else:\n",
    "    print(\"Skipping existing shop features as agg_data is empty.\")\n",
    "    agg_data_with_shop_features = agg_data.copy()"
   ]
  },
  {
   "cell_type": "markdown",
   "id": "5d640d72",
   "metadata": {},
   "source": [
    "## 5. New Feature Engineering (Share, Rank, Interactions)\n",
    "Implementing new features as per Phase 3.5 plan."
   ]
  },
  {
   "cell_type": "code",
   "execution_count": 6,
   "id": "354c426d",
   "metadata": {
    "execution": {
     "iopub.execute_input": "2025-06-15T21:41:43.188414Z",
     "iopub.status.busy": "2025-06-15T21:41:43.188414Z",
     "iopub.status.idle": "2025-06-15T21:41:44.520820Z",
     "shell.execute_reply": "2025-06-15T21:41:44.519740Z"
    }
   },
   "outputs": [
    {
     "name": "stdout",
     "output_type": "stream",
     "text": [
      "Starting new feature engineering (interaction features only). Initial shape: (98741, 21)\n",
      "Shape after new feature engineering (interaction features only): (98741, 31)\n"
     ]
    }
   ],
   "source": [
    "final_features_df = pd.DataFrame()\n",
    "if not agg_data_with_shop_features.empty:\n",
    "    df = agg_data_with_shop_features.copy()\n",
    "    print(f\"Starting new feature engineering (interaction features only). Initial shape: {df.shape}\")\n",
    "\n",
    "    # C. Interaction features via hashing\n",
    "    hasher = FeatureHasher(n_features=10, input_type='string') \n",
    "    interaction_strings = df.apply(\n",
    "        lambda x: f\"{x['employee_branch']}_{x['product_main_category']}\", axis=1\n",
    "    )\n",
    "    interaction_hashed_features = hasher.transform(interaction_strings.astype(str).apply(lambda s: [s])).toarray()\n",
    "    for i in range(interaction_hashed_features.shape[1]):\n",
    "        df[f'interaction_hash_{i}'] = interaction_hashed_features[:, i]\n",
    "    \n",
    "    final_features_df = df\n",
    "    print(f\"Shape after new feature engineering (interaction features only): {final_features_df.shape}\")\n",
    "else:\n",
    "    print(\"Skipping new feature engineering as input df is empty.\")\n",
    "    final_features_df = agg_data_with_shop_features.copy()\n"
   ]
  },
  {
   "cell_type": "markdown",
   "id": "9ab59427",
   "metadata": {},
   "source": [
    "## 6. Final Feature Preparation for CatBoost Model"
   ]
  },
  {
   "cell_type": "code",
   "execution_count": 7,
   "id": "bfa170ba",
   "metadata": {
    "execution": {
     "iopub.execute_input": "2025-06-15T21:41:44.524017Z",
     "iopub.status.busy": "2025-06-15T21:41:44.523008Z",
     "iopub.status.idle": "2025-06-15T21:41:44.762543Z",
     "shell.execute_reply": "2025-06-15T21:41:44.761022Z"
    }
   },
   "outputs": [
    {
     "name": "stdout",
     "output_type": "stream",
     "text": [
      "[FEATURES PREP] Preparing final X, y for CatBoost...\n",
      "\n",
      "Final X features shape: (98741, 30)\n",
      "Target y shape: (98741,)\n",
      "Categorical features for CatBoost (17): ['employee_shop', 'employee_branch', 'employee_gender', 'product_main_category', 'product_sub_category', 'product_brand', 'product_color', 'product_durability', 'product_target_gender', 'product_utility_type', 'product_type', 'shop_most_frequent_main_category_selected', 'shop_most_frequent_brand_selected', 'shop_main_category_diversity_selected', 'shop_brand_diversity_selected', 'shop_utility_type_diversity_selected', 'shop_sub_category_diversity_selected']\n",
      "Stratification distribution:\n",
      "{0: 0, 1: 66659, 2: 17205, 3: 11274, 4: 2636, 5: 967}\n"
     ]
    }
   ],
   "source": [
    "X = pd.DataFrame()\n",
    "y = pd.Series(dtype='float64')\n",
    "y_strata = pd.Series(dtype='float64') # For stratified splitting\n",
    "\n",
    "categorical_features_names = [] # To store names of categorical columns for CatBoost\n",
    "\n",
    "if not final_features_df.empty and 'selection_count' in final_features_df.columns:\n",
    "    print(\"[FEATURES PREP] Preparing final X, y for CatBoost...\")\n",
    "    # Ensure grouping_cols is defined in this cell's scope\n",
    "    if 'grouping_cols' not in globals() and 'grouping_cols' not in locals():\n",
    "        print(\"DEBUG: grouping_cols not in scope, attempting to redefine from common knowledge or previous cells.\")\n",
    "        grouping_cols = [\n",
    "            'employee_shop', 'employee_branch', 'employee_gender',\n",
    "            'product_main_category', 'product_sub_category', 'product_brand',\n",
    "            'product_color', 'product_durability', 'product_target_gender',\n",
    "            'product_utility_type', 'product_type'\n",
    "        ]\n",
    "    y = pd.to_numeric(final_features_df['selection_count'], errors='coerce').fillna(0) # Target is raw counts\n",
    "    X = final_features_df.drop(columns=['selection_count']).copy()\n",
    "\n",
    "    # Define categorical features for CatBoost\n",
    "    categorical_features_names = list(grouping_cols) \n",
    "    categorical_features_names.extend([\n",
    "        'shop_most_frequent_main_category_selected',\n",
    "        'shop_most_frequent_brand_selected',\n",
    "        'shop_main_category_diversity_selected',\n",
    "        'shop_brand_diversity_selected',\n",
    "        'shop_utility_type_diversity_selected',\n",
    "        'shop_sub_category_diversity_selected'\n",
    "        # 'is_shop_most_frequent_main_category', # Kept as numeric (0/1)\n",
    "        # 'is_shop_most_frequent_brand'  # Kept as numeric (0/1)\n",
    "    ])\n",
    "\n",
    "    valid_categorical_features = []\n",
    "    for col in categorical_features_names:\n",
    "        if col in X.columns:\n",
    "            X[col] = X[col].astype(str)\n",
    "            valid_categorical_features.append(col)\n",
    "        else:\n",
    "            print(f\"Warning: Categorical feature '{col}' intended for CatBoost not found in X.\")\n",
    "    categorical_features_names = valid_categorical_features\n",
    "\n",
    "    # Handle potential NaNs and ensure correct types for remaining columns\n",
    "    for col in X.columns:\n",
    "        if col not in categorical_features_names:\n",
    "            if X[col].dtype == 'object':\n",
    "                X[col] = pd.to_numeric(X[col], errors='coerce')\n",
    "            \n",
    "            if pd.api.types.is_numeric_dtype(X[col]):\n",
    "                 if X[col].isnull().any():\n",
    "                    X[col] = X[col].fillna(X[col].median())\n",
    "            else:\n",
    "                print(f\"Warning: Column '{col}' could not be made numeric and is not categorical. Dropping.\")\n",
    "                X = X.drop(columns=[col])\n",
    "        elif X[col].isnull().any():\n",
    "             pass # CatBoost handles string 'nan' in categorical features that were converted to str\n",
    "\n",
    "    y_strata = pd.cut(y, bins=[-1, 0, 1, 2, 5, 10, np.inf], labels=[0, 1, 2, 3, 4, 5], include_lowest=True)\n",
    "\n",
    "    print(f\"\\nFinal X features shape: {X.shape}\")\n",
    "    print(f\"Target y shape: {y.shape}\")\n",
    "    print(f\"Categorical features for CatBoost ({len(categorical_features_names)}): {categorical_features_names}\")\n",
    "    if not y_strata.empty:\n",
    "      print(f\"Stratification distribution:\\n{y_strata.value_counts().sort_index().to_dict()}\")\n",
    "else:\n",
    "    print(\"Skipping final feature preparation as final_features_df is empty or 'selection_count' is missing.\")"
   ]
  },
  {
   "cell_type": "code",
   "execution_count": null,
   "id": "b8cd3905",
   "metadata": {},
   "outputs": [],
   "source": []
  },
  {
   "cell_type": "markdown",
   "id": "7fd12169",
   "metadata": {},
   "source": [
    "## 7. CatBoost Model Training (Single-Stage with Poisson Loss)"
   ]
  },
  {
   "cell_type": "code",
   "execution_count": 8,
   "id": "7ac8b6b2",
   "metadata": {
    "execution": {
     "iopub.execute_input": "2025-06-15T21:41:44.765515Z",
     "iopub.status.busy": "2025-06-15T21:41:44.765515Z",
     "iopub.status.idle": "2025-06-15T21:43:39.294224Z",
     "shell.execute_reply": "2025-06-15T21:43:39.294224Z"
    }
   },
   "outputs": [
    {
     "name": "stdout",
     "output_type": "stream",
     "text": [
      "\n",
      "[MODEL TRAINING] Training CatBoost Regressor with Poisson Loss...\n",
      "Train set size: (78992, 30), (78992,)\n",
      "Validation set size: (19749, 30), (19749,)\n",
      "0:\tlearn: -0.4781045\ttest: -0.5322275\tbest: -0.5322275 (0)\ttotal: 367ms\tremaining: 6m 6s\n",
      "100:\tlearn: -0.1191520\ttest: -0.1387951\tbest: -0.1387951 (100)\ttotal: 20.9s\tremaining: 3m 6s\n",
      "200:\tlearn: -0.1089287\ttest: -0.1305875\tbest: -0.1305875 (200)\ttotal: 39.8s\tremaining: 2m 38s\n",
      "Stopped by overfitting detector  (50 iterations wait)\n",
      "\n",
      "bestTest = -0.1294268421\n",
      "bestIteration = 237\n",
      "\n",
      "Shrink model to first 238 iterations.\n",
      "\n",
      "CatBoost Validation R² (original scale): 0.5920\n",
      "CatBoost Validation MAE (original scale): 0.7348\n",
      "CatBoost Validation RMSE (original scale): 1.5495\n"
     ]
    }
   ],
   "source": [
    "trained_catboost_model = None\n",
    "r2_val_catboost = 0.0\n",
    "\n",
    "if not X.empty and not y.empty and not y_strata.empty:\n",
    "    print(\"\\n[MODEL TRAINING] Training CatBoost Regressor with Poisson Loss...\")\n",
    "    \n",
    "    # Split data\n",
    "    X_train, X_val, y_train, y_val = train_test_split(\n",
    "        X, y, test_size=0.2, random_state=42, stratify=y_strata\n",
    "    )\n",
    "    \n",
    "    print(f\"Train set size: {X_train.shape}, {y_train.shape}\")\n",
    "    print(f\"Validation set size: {X_val.shape}, {y_val.shape}\")\n",
    "\n",
    "    # Initialize CatBoost Regressor\n",
    "    catboost_model = CatBoostRegressor(\n",
    "        iterations=1000,\n",
    "        loss_function='Poisson',  # Key change: Poisson loss for count data\n",
    "        eval_metric='R2',        # Evaluate with R2 directly on counts\n",
    "        cat_features=categorical_features_names, # Pass names of categorical features\n",
    "        random_seed=42,\n",
    "        learning_rate=0.05, # Typical starting point\n",
    "        depth=6,            # Typical starting point\n",
    "        l2_leaf_reg=3,      # Regularization\n",
    "        early_stopping_rounds=50,\n",
    "        verbose=100 # Print progress every 100 iterations\n",
    "    )\n",
    "\n",
    "    # Train the model\n",
    "    catboost_model.fit(\n",
    "        X_train, y_train, \n",
    "        eval_set=(X_val, y_val),\n",
    "        # cat_features parameter is set in constructor, no need here if X dtypes are correct\n",
    "    )\n",
    "    \n",
    "    trained_catboost_model = catboost_model\n",
    "    \n",
    "    # Evaluate on validation set\n",
    "    y_pred_val = trained_catboost_model.predict(X_val)\n",
    "    y_pred_val = np.maximum(0, y_pred_val) # Ensure predictions are non-negative for count data\n",
    "    \n",
    "    r2_val_catboost = r2_score(y_val, y_pred_val)\n",
    "    mae_val_catboost = mean_absolute_error(y_val, y_pred_val)\n",
    "    rmse_val_catboost = np.sqrt(mean_squared_error(y_val, y_pred_val))\n",
    "    \n",
    "    print(f\"\\nCatBoost Validation R² (original scale): {r2_val_catboost:.4f}\")\n",
    "    print(f\"CatBoost Validation MAE (original scale): {mae_val_catboost:.4f}\")\n",
    "    print(f\"CatBoost Validation RMSE (original scale): {rmse_val_catboost:.4f}\")\n",
    "\n",
    "    # Cross-validation (optional, can be time-consuming)\n",
    "    # print(\"\\nPerforming CatBoost CV...\")\n",
    "    # cv_params = catboost_model.get_params()\n",
    "    # cv_data = cv(\n",
    "    #     Pool(X, y, cat_features=categorical_features_names),\n",
    "    #     cv_params,\n",
    "    #     fold_count=5,\n",
    "    #     verbose=False\n",
    "    # )\n",
    "    # print(f\"CatBoost CV R2 mean: {cv_data['test-R2-mean'].iloc[-1]:.4f}\")\n",
    "\n",
    "else:\n",
    "    print(\"Skipping CatBoost Model Training as X, y or y_strata is empty/invalid.\")"
   ]
  },
  {
   "cell_type": "code",
   "execution_count": 10,
   "id": "637c3e83",
   "metadata": {},
   "outputs": [
    {
     "name": "stderr",
     "output_type": "stream",
     "text": [
      "[I 2025-06-16 09:17:30,661] A new study created in memory with name: catboost_poisson_r2_nonleaky\n"
     ]
    },
    {
     "name": "stdout",
     "output_type": "stream",
     "text": [
      "\\n[HYPERPARAMETER TUNING] Starting Optuna optimization...\n"
     ]
    },
    {
     "name": "stderr",
     "output_type": "stream",
     "text": [
      "[I 2025-06-16 09:22:01,650] Trial 0 finished with value: 0.6435019357475302 and parameters: {'iterations': 700, 'learning_rate': 0.012912002158777447, 'depth': 10, 'l2_leaf_reg': 2.027557341274432, 'border_count': 49, 'random_strength': 0.036795993528299695, 'bagging_temperature': 0.40201211320800834}. Best is trial 0 with value: 0.6435019357475302.\n",
      "[I 2025-06-16 09:23:28,685] Trial 1 finished with value: 0.5680981878671671 and parameters: {'iterations': 500, 'learning_rate': 0.028548056642274344, 'depth': 5, 'l2_leaf_reg': 6.590974591243279, 'border_count': 150, 'random_strength': 2.2777328861985528e-05, 'bagging_temperature': 0.8185734466392435}. Best is trial 0 with value: 0.6435019357475302.\n",
      "[I 2025-06-16 09:25:01,999] Trial 2 finished with value: 0.5970020657910144 and parameters: {'iterations': 1400, 'learning_rate': 0.03314514383137139, 'depth': 8, 'l2_leaf_reg': 0.0509215822311017, 'border_count': 85, 'random_strength': 8.389280739088139e-06, 'bagging_temperature': 0.04538986639844056}. Best is trial 0 with value: 0.6435019357475302.\n",
      "[I 2025-06-16 09:25:47,597] Trial 3 finished with value: 0.6357557783143666 and parameters: {'iterations': 1200, 'learning_rate': 0.17379215195700642, 'depth': 10, 'l2_leaf_reg': 0.08828019080999899, 'border_count': 109, 'random_strength': 0.24520518084083376, 'bagging_temperature': 0.434253319861863}. Best is trial 0 with value: 0.6435019357475302.\n",
      "[I 2025-06-16 09:28:02,856] Trial 4 finished with value: 0.6365868596564788 and parameters: {'iterations': 900, 'learning_rate': 0.02171435293065363, 'depth': 8, 'l2_leaf_reg': 4.119995846258411, 'border_count': 143, 'random_strength': 9.348810260702664e-06, 'bagging_temperature': 0.1328533792911909}. Best is trial 0 with value: 0.6435019357475302.\n",
      "[I 2025-06-16 09:28:58,295] Trial 5 finished with value: 0.5372223269425852 and parameters: {'iterations': 400, 'learning_rate': 0.08490730796545645, 'depth': 4, 'l2_leaf_reg': 1.5904968497814278, 'border_count': 65, 'random_strength': 0.0005780382682190223, 'bagging_temperature': 0.28198044170725034}. Best is trial 0 with value: 0.6435019357475302.\n",
      "[I 2025-06-16 09:30:05,999] Trial 6 finished with value: 0.5601732754164407 and parameters: {'iterations': 500, 'learning_rate': 0.04744728106931729, 'depth': 4, 'l2_leaf_reg': 0.04085601794972564, 'border_count': 125, 'random_strength': 0.018994720785504172, 'bagging_temperature': 0.4183087000028217}. Best is trial 0 with value: 0.6435019357475302.\n",
      "[I 2025-06-16 09:30:50,430] Trial 7 finished with value: 0.6218764344406816 and parameters: {'iterations': 1500, 'learning_rate': 0.10777012440941823, 'depth': 7, 'l2_leaf_reg': 0.032253208096780506, 'border_count': 72, 'random_strength': 0.00040413050389064286, 'bagging_temperature': 0.6715657406152312}. Best is trial 0 with value: 0.6435019357475302.\n",
      "[I 2025-06-16 09:31:35,615] Trial 8 finished with value: 0.6367304612088872 and parameters: {'iterations': 1100, 'learning_rate': 0.12009103857612169, 'depth': 8, 'l2_leaf_reg': 0.17535676642859793, 'border_count': 180, 'random_strength': 0.16219000191775612, 'bagging_temperature': 0.781592590338412}. Best is trial 0 with value: 0.6435019357475302.\n",
      "[I 2025-06-16 09:34:16,765] Trial 9 finished with value: 0.6115063536615797 and parameters: {'iterations': 1000, 'learning_rate': 0.026133417024435814, 'depth': 10, 'l2_leaf_reg': 0.10950110173115518, 'border_count': 148, 'random_strength': 1.1186621279146886e-08, 'bagging_temperature': 0.3733118350429383}. Best is trial 0 with value: 0.6435019357475302.\n",
      "[I 2025-06-16 09:36:49,249] Trial 10 finished with value: 0.5730905312331709 and parameters: {'iterations': 700, 'learning_rate': 0.011643726051589259, 'depth': 6, 'l2_leaf_reg': 0.8028029425769306, 'border_count': 235, 'random_strength': 1.021769361321895, 'bagging_temperature': 0.6009983563407648}. Best is trial 0 with value: 0.6435019357475302.\n",
      "[I 2025-06-16 09:40:50,982] Trial 11 finished with value: 0.5574629529195211 and parameters: {'iterations': 900, 'learning_rate': 0.011334498870134324, 'depth': 9, 'l2_leaf_reg': 0.3139807790510398, 'border_count': 206, 'random_strength': 9.810160955731504, 'bagging_temperature': 0.8200492115501011}. Best is trial 0 with value: 0.6435019357475302.\n",
      "[I 2025-06-16 09:41:52,339] Trial 12 finished with value: 0.6204834173087334 and parameters: {'iterations': 1100, 'learning_rate': 0.06647264480289784, 'depth': 9, 'l2_leaf_reg': 14.265346094876708, 'border_count': 191, 'random_strength': 0.03239939210688467, 'bagging_temperature': 0.9428848176601887}. Best is trial 0 with value: 0.6435019357475302.\n",
      "[I 2025-06-16 09:42:29,573] Trial 13 finished with value: 0.620845244198345 and parameters: {'iterations': 700, 'learning_rate': 0.19312369974653915, 'depth': 8, 'l2_leaf_reg': 0.299097522885192, 'border_count': 33, 'random_strength': 0.01845491611593668, 'bagging_temperature': 0.5894586255675778}. Best is trial 0 with value: 0.6435019357475302.\n",
      "[I 2025-06-16 09:45:16,688] Trial 14 finished with value: 0.6134926266467496 and parameters: {'iterations': 700, 'learning_rate': 0.01759467292825271, 'depth': 9, 'l2_leaf_reg': 0.010080096345210494, 'border_count': 179, 'random_strength': 0.002156176140648705, 'bagging_temperature': 0.24900966887458198}. Best is trial 0 with value: 0.6435019357475302.\n"
     ]
    },
    {
     "name": "stdout",
     "output_type": "stream",
     "text": [
      "Number of finished trials:  15\n",
      "Best trial:\n",
      "  Value (R2): 0.6435\n",
      "  Params: \n",
      "    iterations: 700\n",
      "    learning_rate: 0.012912002158777447\n",
      "    depth: 10\n",
      "    l2_leaf_reg: 2.027557341274432\n",
      "    border_count: 49\n",
      "    random_strength: 0.036795993528299695\n",
      "    bagging_temperature: 0.40201211320800834\n",
      "\\nRetraining model with best Optuna hyperparameters...\n",
      "0:\tlearn: -0.4916124\ttest: -0.5473600\tbest: -0.5473600 (0)\ttotal: 521ms\tremaining: 6m 4s\n",
      "100:\tlearn: -0.2126176\ttest: -0.2440456\tbest: -0.2440456 (100)\ttotal: 48.6s\tremaining: 4m 48s\n",
      "200:\tlearn: -0.1368768\ttest: -0.1643582\tbest: -0.1643582 (200)\ttotal: 1m 40s\tremaining: 4m 9s\n",
      "300:\tlearn: -0.1122992\ttest: -0.1409060\tbest: -0.1409060 (300)\ttotal: 2m 31s\tremaining: 3m 20s\n",
      "400:\tlearn: -0.1027722\ttest: -0.1329915\tbest: -0.1329915 (400)\ttotal: 3m 21s\tremaining: 2m 30s\n",
      "500:\tlearn: -0.0981713\ttest: -0.1296550\tbest: -0.1296550 (500)\ttotal: 4m 11s\tremaining: 1m 40s\n",
      "Stopped by overfitting detector  (50 iterations wait)\n",
      "\n",
      "bestTest = -0.1294638233\n",
      "bestIteration = 510\n",
      "\n",
      "Shrink model to first 511 iterations.\n",
      "\\nOptimized CatBoost Validation R² (original scale): 0.6435\n",
      "Optimized CatBoost Validation MAE (original scale): 0.7179\n",
      "Optimized CatBoost Validation RMSE (original scale): 1.4484\n"
     ]
    }
   ],
   "source": [
    "import optuna\n",
    "\n",
    "# Ensure X_train, y_train, X_val, y_val, and categorical_features_names \n",
    "# are available from the previous cell's execution context.\n",
    "\n",
    "def objective(trial):\n",
    "    param = {\n",
    "        'iterations': trial.suggest_int('iterations', 400, 1500, step=100),\n",
    "        'learning_rate': trial.suggest_float('learning_rate', 0.01, 0.2, log=True),\n",
    "        'depth': trial.suggest_int('depth', 4, 10),\n",
    "        'l2_leaf_reg': trial.suggest_float('l2_leaf_reg', 1e-2, 20.0, log=True),\n",
    "        'border_count': trial.suggest_int('border_count', 32, 255),\n",
    "        'random_strength': trial.suggest_float('random_strength', 1e-8, 10.0, log=True),\n",
    "        'bagging_temperature': trial.suggest_float('bagging_temperature', 0.0, 1.0),\n",
    "        'loss_function': 'Poisson',\n",
    "        'eval_metric': 'R2',\n",
    "        'random_seed': 42,\n",
    "        'verbose': 0, \n",
    "        'early_stopping_rounds': 50\n",
    "    }\n",
    "\n",
    "    model = CatBoostRegressor(**param, cat_features=categorical_features_names)\n",
    "    \n",
    "    model.fit(X_train, y_train, eval_set=[(X_val, y_val)], early_stopping_rounds=param.get('early_stopping_rounds', 50), verbose=0)\n",
    "    \n",
    "    preds = model.predict(X_val)\n",
    "    preds = np.maximum(0, preds)\n",
    "    r2 = r2_score(y_val, preds)\n",
    "    \n",
    "    return r2\n",
    "\n",
    "print(\"\\\\n[HYPERPARAMETER TUNING] Starting Optuna optimization...\")\n",
    "if 'X_train' in globals() and 'y_train' in globals() and 'X_val' in globals() and 'y_val' in globals():\n",
    "    study = optuna.create_study(direction='maximize', study_name='catboost_poisson_r2_nonleaky')\n",
    "    # For a more thorough search, increase n_trials (e.g., to 30-50 or more)\n",
    "    # Using 15 trials for now to balance speed and exploration.\n",
    "    study.optimize(objective, n_trials=15) \n",
    "\n",
    "    print(\"Number of finished trials: \", len(study.trials))\n",
    "    print(\"Best trial:\")\n",
    "    best_trial = study.best_trial\n",
    "\n",
    "    print(f\"  Value (R2): {best_trial.value:.4f}\")\n",
    "    print(\"  Params: \")\n",
    "    for key, value in best_trial.params.items():\n",
    "        print(f\"    {key}: {value}\")\n",
    "\n",
    "    print(\"\\\\nRetraining model with best Optuna hyperparameters...\")\n",
    "    best_params_from_optuna = best_trial.params.copy()\n",
    "    best_params_from_optuna['loss_function'] = 'Poisson'\n",
    "    best_params_from_optuna['eval_metric'] = 'R2'\n",
    "    best_params_from_optuna['random_seed'] = 42\n",
    "    best_params_from_optuna['verbose'] = 100 \n",
    "    \n",
    "    if 'early_stopping_rounds' not in best_params_from_optuna:\n",
    "        best_params_from_optuna['early_stopping_rounds'] = 50 \n",
    "    \n",
    "    trained_catboost_model_optuna = CatBoostRegressor(**best_params_from_optuna, cat_features=categorical_features_names)\n",
    "    \n",
    "    trained_catboost_model_optuna.fit(X_train, y_train, eval_set=[(X_val, y_val)], \n",
    "                                 early_stopping_rounds=best_params_from_optuna.get('early_stopping_rounds', 50), \n",
    "                                 verbose=best_params_from_optuna.get('verbose',100))\n",
    "    \n",
    "    y_pred_val_optuna = trained_catboost_model_optuna.predict(X_val)\n",
    "    y_pred_val_optuna = np.maximum(0, y_pred_val_optuna)\n",
    "    \n",
    "    r2_val_optuna = r2_score(y_val, y_pred_val_optuna)\n",
    "    mae_val_optuna = mean_absolute_error(y_val, y_pred_val_optuna)\n",
    "    rmse_val_optuna = np.sqrt(mean_squared_error(y_val, y_pred_val_optuna))\n",
    "\n",
    "    print(f\"\\\\nOptimized CatBoost Validation R² (original scale): {r2_val_optuna:.4f}\")\n",
    "    print(f\"Optimized CatBoost Validation MAE (original scale): {mae_val_optuna:.4f}\")\n",
    "    print(f\"Optimized CatBoost Validation RMSE (original scale): {rmse_val_optuna:.4f}\")\n",
    "    \n",
    "    # Update the main trained_model to the optimized one so subsequent cells (like feature importance) use it\n",
    "    trained_catboost_model = trained_catboost_model_optuna\n",
    "else:\n",
    "    print(\"Skipping Optuna tuning as training data (X_train etc.) is not available.\")\n",
    "\n"
   ]
  },
  {
   "cell_type": "markdown",
   "id": "833821ba",
   "metadata": {},
   "source": [
    "## Cross Validation"
   ]
  },
  {
   "cell_type": "code",
   "execution_count": 12,
   "id": "8a7c0b0f",
   "metadata": {},
   "outputs": [
    {
     "name": "stdout",
     "output_type": "stream",
     "text": [
      "\\n[CROSS-VALIDATION] Performing Stratified K-Fold CV with optimized parameters...\n",
      "  Training fold 1/5...\n",
      "    Fold 1 R²: 0.5023\n",
      "  Training fold 2/5...\n",
      "    Fold 2 R²: 0.6124\n",
      "  Training fold 3/5...\n",
      "    Fold 3 R²: 0.5817\n",
      "  Training fold 4/5...\n",
      "    Fold 4 R²: 0.6083\n",
      "  Training fold 5/5...\n",
      "    Fold 5 R²: 0.6422\n",
      "\n",
      "Optimized CatBoost Stratified K-Fold CV R² (mean): 0.5894\n",
      "Optimized CatBoost Stratified K-Fold CV R² (std): 0.0476\n"
     ]
    }
   ],
   "source": [
    "from sklearn.model_selection import StratifiedKFold\n",
    "from sklearn.metrics import r2_score\n",
    "import numpy as np\n",
    "\n",
    "print(\"\\\\n[CROSS-VALIDATION] Performing Stratified K-Fold CV with optimized parameters...\")\n",
    "\n",
    "# Ensure X, y, categorical_features_names, and best_params_from_optuna are available\n",
    "if 'X' in globals() and 'y' in globals() and 'categorical_features_names' in globals() and 'best_params_from_optuna' in globals():\n",
    "    n_splits = 5 # Or another appropriate number like 3 or 10\n",
    "    skf = StratifiedKFold(n_splits=n_splits, shuffle=True, random_state=42)\n",
    "    \n",
    "    # Need y_strata for splitting, ensure it's available from Cell 6 or recalculate\n",
    "    if 'y_strata' not in globals() or len(y_strata) != len(y):\n",
    "        print(\"Recalculating y_strata for CV...\")\n",
    "        y_strata = pd.cut(y, bins=[-1, 0, 1, 2, 5, 10, np.inf], labels=[0, 1, 2, 3, 4, 5], include_lowest=True)\n",
    "\n",
    "    fold_r2_scores = []\n",
    "    \n",
    "    # Ensure y_strata has no NaNs for splitting, and X, y are aligned with it\n",
    "    valid_cv_indices = y_strata.dropna().index\n",
    "    X_for_cv = X.loc[valid_cv_indices]\n",
    "    y_for_cv = y.loc[valid_cv_indices]\n",
    "    y_strata_for_cv = y_strata.loc[valid_cv_indices]\n",
    "\n",
    "    if len(X_for_cv) > 0 and len(y_strata_for_cv) == len(X_for_cv):\n",
    "        for fold, (train_idx, val_idx) in enumerate(skf.split(X_for_cv, y_strata_for_cv)):\n",
    "            print(f\"  Training fold {fold+1}/{n_splits}...\")\n",
    "            X_train_fold, X_val_fold = X_for_cv.iloc[train_idx], X_for_cv.iloc[val_idx]\n",
    "            y_train_fold, y_val_fold = y_for_cv.iloc[train_idx], y_for_cv.iloc[val_idx]\n",
    "            \n",
    "            # Re-initialize model with best params for each fold\n",
    "            cv_model = CatBoostRegressor(**best_params_from_optuna, cat_features=categorical_features_names)\n",
    "            \n",
    "            cv_model.fit(X_train_fold, y_train_fold, \n",
    "                         eval_set=[(X_val_fold, y_val_fold)], # Optional: for monitoring, but early stopping is based on iterations here\n",
    "                         early_stopping_rounds=best_params_from_optuna.get('early_stopping_rounds', 50), # Use from Optuna\n",
    "                         verbose=0) # Suppress output during CV folds\n",
    "            \n",
    "            y_pred_fold = cv_model.predict(X_val_fold)\n",
    "            y_pred_fold = np.maximum(0, y_pred_fold)\n",
    "            fold_r2 = r2_score(y_val_fold, y_pred_fold)\n",
    "            fold_r2_scores.append(fold_r2)\n",
    "            print(f\"    Fold {fold+1} R²: {fold_r2:.4f}\")\n",
    "        \n",
    "        print(f\"\\nOptimized CatBoost Stratified K-Fold CV R² (mean): {np.mean(fold_r2_scores):.4f}\")\n",
    "        print(f\"Optimized CatBoost Stratified K-Fold CV R² (std): {np.std(fold_r2_scores):.4f}\")\n",
    "    else:\n",
    "        print(\"Skipping CV: Not enough valid data after handling NaNs in strata or strata mismatch.\")\n",
    "else:\n",
    "    print(\"Skipping Cross-Validation as necessary variables (X, y, best_params_from_optuna, etc.) are not available.\")\n",
    "\n"
   ]
  },
  {
   "cell_type": "markdown",
   "id": "780ff8b6",
   "metadata": {},
   "source": [
    "## 8. Feature Importance (CatBoost)"
   ]
  },
  {
   "cell_type": "code",
   "execution_count": 13,
   "id": "53368bcc",
   "metadata": {
    "execution": {
     "iopub.execute_input": "2025-06-15T21:43:39.298212Z",
     "iopub.status.busy": "2025-06-15T21:43:39.297205Z",
     "iopub.status.idle": "2025-06-15T21:43:39.737081Z",
     "shell.execute_reply": "2025-06-15T21:43:39.737081Z"
    }
   },
   "outputs": [
    {
     "name": "stdout",
     "output_type": "stream",
     "text": [
      "\n",
      "[ANALYSIS] CatBoost Feature Importance Analysis\n",
      "\n",
      "CatBoost Feature Importance Ranking:\n",
      "                                      feature  importance\n",
      "1                             employee_branch   24.490174\n",
      "2                             employee_gender   16.288557\n",
      "0                               employee_shop   10.958714\n",
      "4                        product_sub_category   10.547405\n",
      "17          shop_most_frequent_brand_selected    7.691320\n",
      "5                               product_brand    7.456126\n",
      "13       shop_sub_category_diversity_selected    6.804436\n",
      "14              shop_brand_diversity_selected    4.518791\n",
      "6                               product_color    2.839921\n",
      "3                       product_main_category    1.822018\n",
      "12      shop_main_category_diversity_selected    1.792272\n",
      "16  shop_most_frequent_main_category_selected    1.320527\n",
      "11        unique_product_combinations_in_shop    1.240075\n",
      "19                is_shop_most_frequent_brand    0.789295\n",
      "22                         interaction_hash_2    0.528782\n",
      "9                        product_utility_type    0.352469\n",
      "15       shop_utility_type_diversity_selected    0.298429\n",
      "7                          product_durability    0.156599\n",
      "18        is_shop_most_frequent_main_category    0.022514\n",
      "8                       product_target_gender    0.020810\n"
     ]
    },
    {
     "data": {
      "image/png": "[encoded data removed]",
      "text/plain": [
       "<Figure size 1200x800 with 1 Axes>"
      ]
     },
     "metadata": {},
     "output_type": "display_data"
    }
   ],
   "source": [
    "if trained_catboost_model is not None and not X.empty:\n",
    "    print(\"\\n[ANALYSIS] CatBoost Feature Importance Analysis\")\n",
    "    feature_importances = trained_catboost_model.get_feature_importance()\n",
    "    feature_names = X.columns\n",
    "    \n",
    "    importance_df_catboost = pd.DataFrame({\n",
    "        'feature': feature_names,\n",
    "        'importance': feature_importances\n",
    "    }).sort_values('importance', ascending=False)\n",
    "    \n",
    "    print(\"\\nCatBoost Feature Importance Ranking:\")\n",
    "    # for i, row in importance_df_catboost.head(20).iterrows(): # Display top 20\n",
    "    #     print(f\"  {row['feature']:<45} {row['importance']:.4f}\")\n",
    "    print(importance_df_catboost.head(20).to_string())\n",
    "\n",
    "    plt.figure(figsize=(12, max(8, len(importance_df_catboost.head(20)) * 0.3)))\n",
    "    sns.barplot(x='importance', y='feature', data=importance_df_catboost.head(20), palette='viridis')\n",
    "    plt.title('CatBoost Feature Importance (Top 20)')\n",
    "    plt.tight_layout()\n",
    "    plt.show()\n",
    "else:\n",
    "    print(\"Skipping CatBoost feature importance as model was not trained or X is empty.\")"
   ]
  },
  {
   "cell_type": "markdown",
   "id": "c436fa21",
   "metadata": {},
   "source": [
    "## 9. Summary and Next Steps\n",
    "\n",
    "This notebook sets up the single-stage CatBoost model. The next steps involve:\n",
    "1. Fine-tuning hyperparameters for CatBoost.\n",
    "2. Rigorous cross-validation.\n",
    "3. Implementing the Two-Stage CatBoost model.\n",
    "4. Comparing performance against the XGBoost baseline and this single-stage CatBoost model."
   ]
  },
  {
   "cell_type": "code",
   "execution_count": null,
   "id": "8727c3c5",
   "metadata": {},
   "outputs": [],
   "source": []
  }
 ],
 "metadata": {
  "kernelspec": {
   "display_name": "Python 3",
   "language": "python",
   "name": "python3"
  },
  "language_info": {
   "codemirror_mode": {
    "name": "ipython",
    "version": 3
   },
   "file_extension": ".py",
   "mimetype": "text/x-python",
   "name": "python",
   "nbconvert_exporter": "python",
   "pygments_lexer": "ipython3",
   "version": "3.11.13"
  }
 },
 "nbformat": 4,
 "nbformat_minor": 5
}
